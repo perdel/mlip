{
 "cells": [
  {
   "cell_type": "code",
   "execution_count": null,
   "id": "786964c3",
   "metadata": {},
   "outputs": [],
   "source": [
    "from ase.build import fcc111, molecule, fcc100, fcc110\n",
    "from ase import Atoms\n",
    "from ase.io import write\n",
    "from ase.optimize import BFGS, FIRE\n",
    "from ase.constraints import ExpCellFilter"
   ]
  },
  {
   "cell_type": "markdown",
   "id": "8664bbfb",
   "metadata": {},
   "source": [
    "# Create test models"
   ]
  },
  {
   "cell_type": "markdown",
   "id": "38a6414c",
   "metadata": {},
   "source": [
    "## Pt surface"
   ]
  },
  {
   "cell_type": "code",
   "execution_count": null,
   "id": "086a2a1b",
   "metadata": {},
   "outputs": [],
   "source": [
    "el='Pt'"
   ]
  },
  {
   "cell_type": "code",
   "execution_count": null,
   "id": "01eb814f",
   "metadata": {},
   "outputs": [],
   "source": [
    "# Build an FCC (100) surface\n",
    "surface = fcc100(el, size=(4, 4, 6), vacuum=20.0)"
   ]
  },
  {
   "cell_type": "code",
   "execution_count": null,
   "id": "30b5bc11",
   "metadata": {},
   "outputs": [],
   "source": [
    "# Create an O2 molecule\n",
    "o2 = molecule('O2')\n",
    "o2.rotate([0,0,1],[1,0,0])\n",
    "\n",
    "z_max=max(surface.positions[:,2])\n",
    "\n",
    "# Adjust the position of the O2 molecule above the surface\n",
    "o2.translate([surface.get_cell()[0, 0] / 2, surface.get_cell()[1, 1] / 2, z_max+2.5])"
   ]
  },
  {
   "cell_type": "code",
   "execution_count": null,
   "id": "d7ebe85f",
   "metadata": {},
   "outputs": [],
   "source": [
    "# Combine the surface and the O2 molecule into a single system\n",
    "system = surface + o2\n",
    "\n",
    "# Visualize the system (optional)\n",
    "# view(system)"
   ]
  },
  {
   "cell_type": "code",
   "execution_count": null,
   "id": "bdcfa7fb",
   "metadata": {},
   "outputs": [],
   "source": [
    "fname=f\"slab.lammps-data\""
   ]
  },
  {
   "cell_type": "code",
   "execution_count": null,
   "id": "ecd8a45e",
   "metadata": {},
   "outputs": [],
   "source": [
    "specorder=[el,'O']"
   ]
  },
  {
   "cell_type": "code",
   "execution_count": null,
   "id": "55e5a698",
   "metadata": {},
   "outputs": [],
   "source": [
    "write(fname, system, specorder=specorder)"
   ]
  }
 ],
 "metadata": {
  "kernelspec": {
   "display_name": "grace",
   "language": "python",
   "name": "python3"
  },
  "language_info": {
   "codemirror_mode": {
    "name": "ipython",
    "version": 3
   },
   "file_extension": ".py",
   "mimetype": "text/x-python",
   "name": "python",
   "nbconvert_exporter": "python",
   "pygments_lexer": "ipython3",
   "version": "3.11.12"
  }
 },
 "nbformat": 4,
 "nbformat_minor": 5
}
