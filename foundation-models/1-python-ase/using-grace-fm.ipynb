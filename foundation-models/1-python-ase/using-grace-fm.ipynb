{
 "cells": [
  {
   "cell_type": "code",
   "execution_count": null,
   "id": "1332944a",
   "metadata": {},
   "outputs": [],
   "source": [
    "import os\n",
    "import numpy\n",
    "import matplotlib.pyplot as plt\n",
    "\n",
    "from ase.optimize import BFGS, FIRE\n",
    "from ase.filters import FrechetCellFilter\n",
    "from ase.build import bulk\n",
    "from ase.phonons import Phonons\n",
    "from tensorpotential.calculator.foundation_models import grace_fm, GRACEModels"
   ]
  },
  {
   "cell_type": "code",
   "execution_count": null,
   "id": "8c762baf",
   "metadata": {},
   "outputs": [],
   "source": [
    "os.environ[\"TF_CPP_MIN_LOG_LEVEL\"] = \"3\""
   ]
  },
  {
   "cell_type": "markdown",
   "id": "36f3308b",
   "metadata": {},
   "source": [
    "# Load model"
   ]
  },
  {
   "cell_type": "code",
   "execution_count": null,
   "id": "29648b65",
   "metadata": {},
   "outputs": [],
   "source": [
    "calc = grace_fm(GRACEModels.GRACE_1L_MP_r6)"
   ]
  },
  {
   "cell_type": "markdown",
   "id": "225a1a99",
   "metadata": {},
   "source": [
    "# Tungsten"
   ]
  },
  {
   "cell_type": "code",
   "execution_count": null,
   "id": "0f07bf7c",
   "metadata": {},
   "outputs": [],
   "source": [
    "at = bulk(\"W\")"
   ]
  },
  {
   "cell_type": "code",
   "execution_count": null,
   "id": "1508f3aa",
   "metadata": {},
   "outputs": [],
   "source": [
    "at.calc = calc"
   ]
  },
  {
   "cell_type": "code",
   "execution_count": null,
   "id": "f520709d",
   "metadata": {},
   "outputs": [],
   "source": [
    "at.get_potential_energy()"
   ]
  },
  {
   "cell_type": "code",
   "execution_count": null,
   "id": "da29d7ae",
   "metadata": {},
   "outputs": [],
   "source": [
    "BFGS(FrechetCellFilter(at)).run()"
   ]
  },
  {
   "cell_type": "markdown",
   "id": "4950ce77",
   "metadata": {},
   "source": [
    "## Phonons"
   ]
  },
  {
   "cell_type": "markdown",
   "id": "60acb1d1",
   "metadata": {},
   "source": [
    "Example from https://wiki.fysik.dtu.dk/ase/ase/phonons.html"
   ]
  },
  {
   "cell_type": "code",
   "execution_count": null,
   "id": "76e90591",
   "metadata": {},
   "outputs": [],
   "source": [
    "# Phonon calculator\n",
    "N = 7\n",
    "ph = Phonons(at, calc, supercell=(N, N, N), delta=0.05)\n",
    "ph.run()"
   ]
  },
  {
   "cell_type": "code",
   "execution_count": null,
   "id": "d709f8fa",
   "metadata": {},
   "outputs": [],
   "source": [
    "# Read forces and assemble the dynamical matrix\n",
    "ph.read(acoustic=True)\n",
    "ph.clean()"
   ]
  },
  {
   "cell_type": "code",
   "execution_count": null,
   "id": "99f8b64d",
   "metadata": {},
   "outputs": [],
   "source": [
    "path = at.cell.bandpath(npoints=100)\n",
    "bs = ph.get_band_structure(path)\n",
    "\n",
    "dos = ph.get_dos(kpts=(20, 20, 20)).sample_grid(npts=100, width=1e-3)"
   ]
  },
  {
   "cell_type": "code",
   "execution_count": null,
   "id": "aaf7b6b7",
   "metadata": {},
   "outputs": [],
   "source": [
    "fig = plt.figure(1, figsize=(7, 4))\n",
    "ax = fig.add_axes([0.12, 0.07, 0.67, 0.85])\n",
    "\n",
    "emax = 0.025\n",
    "bs.plot(ax=ax, emin=0.0, emax=emax)\n",
    "\n",
    "dosax = fig.add_axes([0.8, 0.07, 0.17, 0.85])\n",
    "dosax.fill_between(\n",
    "    dos.get_weights(), dos.get_energies(), y2=0, color=\"grey\", edgecolor=\"k\", lw=1\n",
    ")\n",
    "\n",
    "dosax.set_ylim(0, emax)\n",
    "dosax.set_yticks([])\n",
    "dosax.set_xticks([])\n",
    "dosax.set_xlabel(\"DOS\")"
   ]
  }
 ],
 "metadata": {
  "kernelspec": {
   "display_name": "grace",
   "language": "python",
   "name": "python3"
  },
  "language_info": {
   "codemirror_mode": {
    "name": "ipython",
    "version": 3
   },
   "file_extension": ".py",
   "mimetype": "text/x-python",
   "name": "python",
   "nbconvert_exporter": "python",
   "pygments_lexer": "ipython3",
   "version": "3.11.12"
  }
 },
 "nbformat": 4,
 "nbformat_minor": 5
}
